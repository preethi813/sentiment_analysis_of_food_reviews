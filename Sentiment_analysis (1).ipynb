{
 "cells": [
  {
   "cell_type": "code",
   "execution_count": 1,
   "metadata": {},
   "outputs": [],
   "source": [
    "import pandas as pd\n",
    "import numpy as np\n",
    "import matplotlib.pyplot as plt\n",
    "import seaborn as sns\n",
    "from sklearn.feature_extraction.text import CountVectorizer\n",
    "from sklearn.feature_extraction.text import TfidfVectorizer\n",
    "from sklearn.linear_model import LogisticRegression\n",
    "from sklearn.model_selection import train_test_split\n",
    "from sklearn.dummy import DummyClassifier\n",
    "from string import punctuation\n",
    "from sklearn import svm\n",
    "from nltk.corpus import stopwords\n",
    "from nltk.stem import WordNetLemmatizer\n",
    "import nltk\n",
    "from nltk import ngrams\n",
    "from itertools import chain\n",
    "from wordcloud import WordCloud"
   ]
  },
  {
   "cell_type": "code",
   "execution_count": 2,
   "metadata": {},
   "outputs": [
    {
     "data": {
      "text/html": [
       "<div>\n",
       "<style scoped>\n",
       "    .dataframe tbody tr th:only-of-type {\n",
       "        vertical-align: middle;\n",
       "    }\n",
       "\n",
       "    .dataframe tbody tr th {\n",
       "        vertical-align: top;\n",
       "    }\n",
       "\n",
       "    .dataframe thead th {\n",
       "        text-align: right;\n",
       "    }\n",
       "</style>\n",
       "<table border=\"1\" class=\"dataframe\">\n",
       "  <thead>\n",
       "    <tr style=\"text-align: right;\">\n",
       "      <th></th>\n",
       "      <th>Id</th>\n",
       "      <th>ProductId</th>\n",
       "      <th>UserId</th>\n",
       "      <th>ProfileName</th>\n",
       "      <th>HelpfulnessNumerator</th>\n",
       "      <th>HelpfulnessDenominator</th>\n",
       "      <th>Score</th>\n",
       "      <th>Time</th>\n",
       "      <th>Summary</th>\n",
       "      <th>Text</th>\n",
       "      <th>Helpful %</th>\n",
       "      <th>% Upvote</th>\n",
       "    </tr>\n",
       "  </thead>\n",
       "  <tbody>\n",
       "    <tr>\n",
       "      <th>0</th>\n",
       "      <td>1</td>\n",
       "      <td>B001E4KFG0</td>\n",
       "      <td>A3SGXH7AUHU8GW</td>\n",
       "      <td>delmartian</td>\n",
       "      <td>1</td>\n",
       "      <td>1</td>\n",
       "      <td>5</td>\n",
       "      <td>1303862400</td>\n",
       "      <td>Good Quality Dog Food</td>\n",
       "      <td>I have bought several of the Vitality canned d...</td>\n",
       "      <td>1.0</td>\n",
       "      <td>80-100%</td>\n",
       "    </tr>\n",
       "    <tr>\n",
       "      <th>1</th>\n",
       "      <td>2</td>\n",
       "      <td>B00813GRG4</td>\n",
       "      <td>A1D87F6ZCVE5NK</td>\n",
       "      <td>dll pa</td>\n",
       "      <td>0</td>\n",
       "      <td>0</td>\n",
       "      <td>1</td>\n",
       "      <td>1346976000</td>\n",
       "      <td>Not as Advertised</td>\n",
       "      <td>Product arrived labeled as Jumbo Salted Peanut...</td>\n",
       "      <td>-1.0</td>\n",
       "      <td>Empty</td>\n",
       "    </tr>\n",
       "    <tr>\n",
       "      <th>2</th>\n",
       "      <td>3</td>\n",
       "      <td>B000LQOCH0</td>\n",
       "      <td>ABXLMWJIXXAIN</td>\n",
       "      <td>Natalia Corres \"Natalia Corres\"</td>\n",
       "      <td>1</td>\n",
       "      <td>1</td>\n",
       "      <td>4</td>\n",
       "      <td>1219017600</td>\n",
       "      <td>\"Delight\" says it all</td>\n",
       "      <td>This is a confection that has been around a fe...</td>\n",
       "      <td>1.0</td>\n",
       "      <td>80-100%</td>\n",
       "    </tr>\n",
       "    <tr>\n",
       "      <th>3</th>\n",
       "      <td>4</td>\n",
       "      <td>B000UA0QIQ</td>\n",
       "      <td>A395BORC6FGVXV</td>\n",
       "      <td>Karl</td>\n",
       "      <td>3</td>\n",
       "      <td>3</td>\n",
       "      <td>2</td>\n",
       "      <td>1307923200</td>\n",
       "      <td>Cough Medicine</td>\n",
       "      <td>If you are looking for the secret ingredient i...</td>\n",
       "      <td>1.0</td>\n",
       "      <td>80-100%</td>\n",
       "    </tr>\n",
       "    <tr>\n",
       "      <th>4</th>\n",
       "      <td>5</td>\n",
       "      <td>B006K2ZZ7K</td>\n",
       "      <td>A1UQRSCLF8GW1T</td>\n",
       "      <td>Michael D. Bigham \"M. Wassir\"</td>\n",
       "      <td>0</td>\n",
       "      <td>0</td>\n",
       "      <td>5</td>\n",
       "      <td>1350777600</td>\n",
       "      <td>Great taffy</td>\n",
       "      <td>Great taffy at a great price.  There was a wid...</td>\n",
       "      <td>-1.0</td>\n",
       "      <td>Empty</td>\n",
       "    </tr>\n",
       "  </tbody>\n",
       "</table>\n",
       "</div>"
      ],
      "text/plain": [
       "   Id   ProductId          UserId                      ProfileName  \\\n",
       "0   1  B001E4KFG0  A3SGXH7AUHU8GW                       delmartian   \n",
       "1   2  B00813GRG4  A1D87F6ZCVE5NK                           dll pa   \n",
       "2   3  B000LQOCH0   ABXLMWJIXXAIN  Natalia Corres \"Natalia Corres\"   \n",
       "3   4  B000UA0QIQ  A395BORC6FGVXV                             Karl   \n",
       "4   5  B006K2ZZ7K  A1UQRSCLF8GW1T    Michael D. Bigham \"M. Wassir\"   \n",
       "\n",
       "   HelpfulnessNumerator  HelpfulnessDenominator  Score        Time  \\\n",
       "0                     1                       1      5  1303862400   \n",
       "1                     0                       0      1  1346976000   \n",
       "2                     1                       1      4  1219017600   \n",
       "3                     3                       3      2  1307923200   \n",
       "4                     0                       0      5  1350777600   \n",
       "\n",
       "                 Summary                                               Text  \\\n",
       "0  Good Quality Dog Food  I have bought several of the Vitality canned d...   \n",
       "1      Not as Advertised  Product arrived labeled as Jumbo Salted Peanut...   \n",
       "2  \"Delight\" says it all  This is a confection that has been around a fe...   \n",
       "3         Cough Medicine  If you are looking for the secret ingredient i...   \n",
       "4            Great taffy  Great taffy at a great price.  There was a wid...   \n",
       "\n",
       "   Helpful % % Upvote  \n",
       "0        1.0  80-100%  \n",
       "1       -1.0    Empty  \n",
       "2        1.0  80-100%  \n",
       "3        1.0  80-100%  \n",
       "4       -1.0    Empty  "
      ]
     },
     "execution_count": 2,
     "metadata": {},
     "output_type": "execute_result"
    }
   ],
   "source": [
    "odf = pd.read_csv('Reviews.csv')\n",
    "odf['Helpful %'] = np.where(odf['HelpfulnessDenominator'] > 0, odf['HelpfulnessNumerator'] / odf['HelpfulnessDenominator'], -1)\n",
    "odf['% Upvote'] = pd.cut(odf['Helpful %'], bins = [-1, 0, 0.2, 0.4, 0.6, 0.8, 1.0], labels = ['Empty', '0-20%', '20-40%', '40-60%', '60-80%', '80-100%'], include_lowest = True)\n",
    "odf.head()"
   ]
  },
  {
   "cell_type": "code",
   "execution_count": 3,
   "metadata": {},
   "outputs": [
    {
     "data": {
      "text/plain": [
       "Text(0.5, 1.0, 'How helpful users find among user scores')"
      ]
     },
     "execution_count": 3,
     "metadata": {},
     "output_type": "execute_result"
    },
    {
     "data": {
      "image/png": "[encoded data removed]",
      "text/plain": [
       "<Figure size 1080x720 with 2 Axes>"
      ]
     },
     "metadata": {
      "needs_background": "light"
     },
     "output_type": "display_data"
    }
   ],
   "source": [
    "df_s = odf.groupby(['Score', '% Upvote']).agg({'Id': 'count'})\n",
    "df_s = df_s.unstack()\n",
    "df_s.columns = df_s.columns.get_level_values(1)\n",
    "fig = plt.figure(figsize=(15,10))\n",
    "\n",
    "sns.heatmap(df_s[df_s.columns[::-1]].T, cmap = 'YlGnBu', linewidths=.5, annot = True, fmt = 'd', cbar_kws={'label': '# reviews'})\n",
    "plt.yticks(rotation=0)\n",
    "plt.title('How helpful users find among user scores')"
   ]
  },
  {
   "cell_type": "code",
   "execution_count": 4,
   "metadata": {},
   "outputs": [],
   "source": [
    "'''Reviews are skewed towards positive\n",
    "More than half of the reviews are with zero votes\n",
    "Many people agree with score 5 reviews'''\n",
    "#Then we get rid of score 3 reviews (neutral), and separate the remaining reviews into binary class (1 = positive, 0 = negative):\n",
    "df = odf[odf['Score'] != 3]\n",
    "X = df['Text']\n",
    "y_dict = {1:0, 2:0, 4:1, 5:1}\n",
    "y = df['Score'].map(y_dict)"
   ]
  },
  {
   "cell_type": "code",
   "execution_count": 5,
   "metadata": {},
   "outputs": [
    {
     "name": "stdout",
     "output_type": "stream",
     "text": [
      "# features: 114969\n",
      "# train records: 394360\n",
      "# test records: 131454\n"
     ]
    },
    {
     "name": "stderr",
     "output_type": "stream",
     "text": [
      "C:\\Users\\PREETHI\\anaconda3\\lib\\site-packages\\sklearn\\linear_model\\_logistic.py:762: ConvergenceWarning: lbfgs failed to converge (status=1):\n",
      "STOP: TOTAL NO. of ITERATIONS REACHED LIMIT.\n",
      "\n",
      "Increase the number of iterations (max_iter) or scale the data as shown in:\n",
      "    https://scikit-learn.org/stable/modules/preprocessing.html\n",
      "Please also refer to the documentation for alternative solver options:\n",
      "    https://scikit-learn.org/stable/modules/linear_model.html#logistic-regression\n",
      "  n_iter_i = _check_optimize_result(\n"
     ]
    },
    {
     "name": "stdout",
     "output_type": "stream",
     "text": [
      "Model Accuracy: 0.9357798165137615\n",
      "\n",
      "-Top 20 positive-\n",
      "        Word  Coefficient\n",
      "  pleasantly     4.224796\n",
      "    downside     3.120131\n",
      "   addicting     2.953540\n",
      "    drawback     2.665824\n",
      "   skeptical     2.504228\n",
      "      resist     2.376340\n",
      "  economical     2.260940\n",
      "        whim     2.231741\n",
      "    soothing     2.215128\n",
      "     easiest     2.204082\n",
      "      hooked     2.168918\n",
      "     welcome     2.080902\n",
      "   delighted     2.074018\n",
      "   excellent     1.976747\n",
      "       meets     1.973538\n",
      "         yay     1.972552\n",
      " wonderfully     1.967344\n",
      "     worries     1.942192\n",
      " exceptional     1.938185\n",
      "      delish     1.931104\n",
      "\n",
      "-Top 20 negative-\n",
      "          Word  Coefficient\n",
      "         ruins    -2.302089\n",
      "        lacked    -2.322946\n",
      "         blech    -2.330041\n",
      "    unfinished    -2.346251\n",
      "    unbearable    -2.351975\n",
      "           ick    -2.416646\n",
      "    overpowers    -2.484597\n",
      "   unappealing    -2.528266\n",
      "   disapointed    -2.551836\n",
      "       defeats    -2.610770\n",
      "    returnable    -2.679978\n",
      "      mediocre    -2.729830\n",
      "        ripoff    -2.838787\n",
      " disappointing    -2.953546\n",
      "   embarrassed    -2.953758\n",
      "         worst    -3.017887\n",
      "     cancelled    -3.113665\n",
      "  unacceptable    -3.373085\n",
      "     deceptive    -3.514852\n",
      "   undrinkable    -3.652442\n"
     ]
    }
   ],
   "source": [
    "#Logistic regression model on word count\n",
    "c = CountVectorizer(stop_words = 'english')\n",
    "\n",
    "def text_fit(X, y, model,clf_model,coef_show=1):\n",
    "    \n",
    "    X_c = model.fit_transform(X)\n",
    "    print('# features: {}'.format(X_c.shape[1]))\n",
    "    X_train, X_test, y_train, y_test = train_test_split(X_c, y, random_state=0)\n",
    "    print('# train records: {}'.format(X_train.shape[0]))\n",
    "    print('# test records: {}'.format(X_test.shape[0]))\n",
    "    clf = clf_model.fit(X_train, y_train)\n",
    "    acc = clf.score(X_test, y_test)\n",
    "    print ('Model Accuracy: {}'.format(acc))\n",
    "    if coef_show == 1: \n",
    "        w = model.get_feature_names()\n",
    "        coef = clf.coef_.tolist()[0]\n",
    "        coeff_df = pd.DataFrame({'Word' : w, 'Coefficient' : coef})\n",
    "        coeff_df = coeff_df.sort_values(['Coefficient', 'Word'], ascending=[0, 1])\n",
    "        print('')\n",
    "        print('-Top 20 positive-')\n",
    "        print(coeff_df.head(20).to_string(index=False))\n",
    "        print('')\n",
    "        print('-Top 20 negative-')        \n",
    "        print(coeff_df.tail(20).to_string(index=False))\n",
    "    \n",
    "    \n",
    "text_fit(X, y, c, LogisticRegression())"
   ]
  },
  {
   "cell_type": "code",
   "execution_count": 6,
   "metadata": {},
   "outputs": [
    {
     "name": "stdout",
     "output_type": "stream",
     "text": [
      "# features: 114969\n",
      "# train records: 394360\n",
      "# test records: 131454\n",
      "Model Accuracy: 0.737018272551615\n"
     ]
    },
    {
     "name": "stderr",
     "output_type": "stream",
     "text": [
      "C:\\Users\\PREETHI\\anaconda3\\lib\\site-packages\\sklearn\\dummy.py:131: FutureWarning: The default value of strategy will change from stratified to prior in 0.24.\n",
      "  warnings.warn(\"The default value of strategy will change from \"\n"
     ]
    }
   ],
   "source": [
    "text_fit(X, y, c, DummyClassifier(),0)"
   ]
  },
  {
   "cell_type": "code",
   "execution_count": 7,
   "metadata": {},
   "outputs": [
    {
     "name": "stdout",
     "output_type": "stream",
     "text": [
      "# features: 114969\n",
      "# train records: 394360\n",
      "# test records: 131454\n"
     ]
    },
    {
     "name": "stderr",
     "output_type": "stream",
     "text": [
      "C:\\Users\\PREETHI\\anaconda3\\lib\\site-packages\\sklearn\\linear_model\\_logistic.py:762: ConvergenceWarning: lbfgs failed to converge (status=1):\n",
      "STOP: TOTAL NO. of ITERATIONS REACHED LIMIT.\n",
      "\n",
      "Increase the number of iterations (max_iter) or scale the data as shown in:\n",
      "    https://scikit-learn.org/stable/modules/preprocessing.html\n",
      "Please also refer to the documentation for alternative solver options:\n",
      "    https://scikit-learn.org/stable/modules/linear_model.html#logistic-regression\n",
      "  n_iter_i = _check_optimize_result(\n"
     ]
    },
    {
     "name": "stdout",
     "output_type": "stream",
     "text": [
      "Model Accuracy: 0.9346995907313584\n",
      "\n",
      "-Top 20 positive-\n",
      "       Word  Coefficient\n",
      "      great    13.823115\n",
      "  delicious    12.292684\n",
      "       best    11.929382\n",
      "    perfect    10.690185\n",
      "  excellent     9.998906\n",
      "      loves     9.556067\n",
      "     highly     8.930546\n",
      "       love     8.323461\n",
      "  wonderful     8.080655\n",
      "    amazing     7.657185\n",
      " pleasantly     7.479284\n",
      "    awesome     7.416257\n",
      "       good     7.336907\n",
      "       nice     7.092402\n",
      "     hooked     7.084855\n",
      "    pleased     6.922565\n",
      "     smooth     6.867146\n",
      "   favorite     6.849733\n",
      "      yummy     6.752527\n",
      "  fantastic     6.512756\n",
      "\n",
      "-Top 20 negative-\n",
      "           Word  Coefficient\n",
      "          waste    -5.636691\n",
      "           poor    -5.728368\n",
      "    undrinkable    -5.889710\n",
      "           yuck    -5.901257\n",
      "          stale    -6.083224\n",
      "          worse    -6.161696\n",
      "          bland    -6.369801\n",
      "           weak    -6.429666\n",
      "     disgusting    -6.458630\n",
      "      tasteless    -6.675855\n",
      "          threw    -6.691069\n",
      "         return    -6.791954\n",
      "  unfortunately    -7.445472\n",
      "       horrible    -7.853965\n",
      " disappointment    -8.135377\n",
      "          awful    -8.218222\n",
      "   disappointed    -8.560243\n",
      "       terrible    -9.338819\n",
      "  disappointing   -10.022695\n",
      "          worst   -11.610811\n"
     ]
    }
   ],
   "source": [
    "#Logistic regression model on TFIDF\n",
    "tfidf = TfidfVectorizer(stop_words = 'english')\n",
    "text_fit(X, y, tfidf, LogisticRegression())"
   ]
  },
  {
   "cell_type": "code",
   "execution_count": 10,
   "metadata": {},
   "outputs": [
    {
     "name": "stdout",
     "output_type": "stream",
     "text": [
      "# features: 3933179\n",
      "# train records: 394360\n",
      "# test records: 131454\n"
     ]
    },
    {
     "name": "stderr",
     "output_type": "stream",
     "text": [
      "C:\\Users\\PREETHI\\anaconda3\\lib\\site-packages\\sklearn\\linear_model\\_logistic.py:762: ConvergenceWarning: lbfgs failed to converge (status=1):\n",
      "STOP: TOTAL NO. of ITERATIONS REACHED LIMIT.\n",
      "\n",
      "Increase the number of iterations (max_iter) or scale the data as shown in:\n",
      "    https://scikit-learn.org/stable/modules/preprocessing.html\n",
      "Please also refer to the documentation for alternative solver options:\n",
      "    https://scikit-learn.org/stable/modules/linear_model.html#logistic-regression\n",
      "  n_iter_i = _check_optimize_result(\n"
     ]
    },
    {
     "name": "stdout",
     "output_type": "stream",
     "text": [
      "Model Accuracy: 0.9454409907648302\n",
      "\n",
      "-Top 20 positive-\n",
      "             Word  Coefficient\n",
      "            great    20.960132\n",
      "             best    17.824644\n",
      "        delicious    16.852510\n",
      "          perfect    14.430293\n",
      "            loves    13.613355\n",
      "             love    13.267634\n",
      "        excellent    12.937697\n",
      "             good    11.381231\n",
      "        wonderful    11.136372\n",
      "             nice    10.803949\n",
      "         favorite    10.609249\n",
      "          amazing     9.504168\n",
      "          awesome     9.205339\n",
      "             easy     9.108804\n",
      "            happy     8.879198\n",
      "          pleased     8.709685\n",
      "           smooth     8.557963\n",
      "            yummy     8.459076\n",
      "            tasty     8.395446\n",
      " highly recommend     8.377156\n",
      "\n",
      "-Top 20 negative-\n",
      "           Word  Coefficient\n",
      "          maybe    -7.827054\n",
      "         hoping    -7.983143\n",
      "      tasteless    -8.144821\n",
      "          worse    -8.218243\n",
      "          money    -8.344444\n",
      "        thought    -8.497877\n",
      "     disgusting    -8.626682\n",
      "          bland    -9.028154\n",
      "          threw    -9.202262\n",
      "          stale    -9.894000\n",
      "           weak    -9.980687\n",
      "         return   -10.034667\n",
      " disappointment   -10.209953\n",
      "  unfortunately   -10.690591\n",
      "       horrible   -11.202537\n",
      "          awful   -11.664807\n",
      "       terrible   -12.836226\n",
      "  disappointing   -13.224202\n",
      "   disappointed   -14.632499\n",
      "          worst   -14.933103\n"
     ]
    }
   ],
   "source": [
    "#Logistic regression model on TFIDF + ngram\n",
    "tfidf_n = TfidfVectorizer(ngram_range=(1,2),stop_words = 'english')\n",
    "text_fit(X, y, tfidf_n, LogisticRegression())"
   ]
  },
  {
   "cell_type": "code",
   "execution_count": 11,
   "metadata": {},
   "outputs": [
    {
     "name": "stdout",
     "output_type": "stream",
     "text": [
      "Class distribution:\n",
      "1.0    151721\n",
      "0.0      2707\n",
      "Name: % Upvote, dtype: int64\n"
     ]
    }
   ],
   "source": [
    "#Upvote prediction\n",
    "#This study is to see whether there is pattern found for unpopular (downvote) comments by users (might be used to boost sales). We will be focusing on score 5 reviews, and get rid of comments with neutral votes:\n",
    "df = df[df['Score'] == 5]\n",
    "df = df[df['% Upvote'].isin(['0-20%', '20-40%', '60-80%', '80-100%'])]\n",
    "df.shape\n",
    "\n",
    "X = df['Text']\n",
    "y_dict = {'0-20%': 0, '20-40%': 0, '60-80%': 1, '80-100%': 1}\n",
    "y = df['% Upvote'].map(y_dict)\n",
    "\n",
    "print('Class distribution:')\n",
    "print(y.value_counts())"
   ]
  },
  {
   "cell_type": "code",
   "execution_count": 15,
   "metadata": {},
   "outputs": [
    {
     "name": "stdout",
     "output_type": "stream",
     "text": [
      "Percentage of upvote transactions:  0.5\n",
      "Percentage of downvote transactions:  0.5\n",
      "Total number of records in resampled data:  5414\n"
     ]
    }
   ],
   "source": [
    "#The target class is highly skewed to positive (upvotes). Let's resample the data to get balanced data:\n",
    "df_s = pd.DataFrame(data = [X,y]).T\n",
    "\n",
    "Downvote_records = len(df_s[df_s['% Upvote'] == 0])\n",
    "Downvote_indices = np.array(df_s[df_s['% Upvote'] == 0].index)\n",
    "\n",
    "Upvote_indices = df_s[df_s['% Upvote'] == 1].index\n",
    "\n",
    "random_upvote_indices = np.random.choice(Upvote_indices, Downvote_records, replace = False)\n",
    "random_upvote_indices = np.array(random_upvote_indices)\n",
    "\n",
    "under_sample_indices = np.concatenate([Downvote_indices,random_upvote_indices])\n",
    "\n",
    "under_sample_data = df_s.loc[under_sample_indices, :]\n",
    "X_u = under_sample_data['Text']\n",
    "under_sample_data['% Upvote'] = under_sample_data['% Upvote'].astype(int)\n",
    "y_u = under_sample_data['% Upvote']\n",
    "\n",
    "\n",
    "print(\"Percentage of upvote transactions: \", len(under_sample_data[under_sample_data['% Upvote'] == 1])/len(under_sample_data))\n",
    "print(\"Percentage of downvote transactions: \", len(under_sample_data[under_sample_data['% Upvote'] == 0])/len(under_sample_data))\n",
    "print(\"Total number of records in resampled data: \", len(under_sample_data))"
   ]
  },
  {
   "cell_type": "code",
   "execution_count": 16,
   "metadata": {},
   "outputs": [
    {
     "name": "stdout",
     "output_type": "stream",
     "text": [
      "# features: 16285\n",
      "# train records: 4060\n",
      "# test records: 1354\n",
      "Model Accuracy: 0.6971935007385525\n",
      "\n",
      "-Top 20 positive-\n",
      "      Word  Coefficient\n",
      "     guilt     1.344423\n",
      "      mild     1.283316\n",
      " afternoon     1.237388\n",
      "   candies     1.208654\n",
      "      chai     1.157257\n",
      "     stash     1.152273\n",
      "     large     1.109025\n",
      " favorites     1.083415\n",
      "     value     1.054593\n",
      "       com     1.044784\n",
      "  dressing     1.036572\n",
      "      kept     1.025528\n",
      "    figure     1.014988\n",
      " digestion     1.013252\n",
      "   craving     0.996628\n",
      "    baking     0.996531\n",
      "   minutes     0.988256\n",
      "  stocking     0.966521\n",
      " addicting     0.959612\n",
      "     paste     0.957860\n",
      "\n",
      "-Top 20 negative-\n",
      "        Word  Coefficient\n",
      " opportunity    -0.993430\n",
      "      joints    -0.994578\n",
      "       boost    -0.996058\n",
      "      throat    -0.996600\n",
      "     weather    -1.002071\n",
      "     lobster    -1.007869\n",
      "          80    -1.027395\n",
      "       cases    -1.027775\n",
      "       items    -1.030798\n",
      "      middle    -1.046902\n",
      "      choice    -1.050631\n",
      "      vacuum    -1.110231\n",
      "       round    -1.140595\n",
      "        zico    -1.160315\n",
      "       cause    -1.200884\n",
      "      lipton    -1.208477\n",
      "    brooklyn    -1.381225\n",
      "       kashi    -1.435268\n",
      "       beats    -1.518115\n",
      "      marley    -1.615799\n"
     ]
    },
    {
     "name": "stderr",
     "output_type": "stream",
     "text": [
      "C:\\Users\\PREETHI\\anaconda3\\lib\\site-packages\\sklearn\\linear_model\\_logistic.py:762: ConvergenceWarning: lbfgs failed to converge (status=1):\n",
      "STOP: TOTAL NO. of ITERATIONS REACHED LIMIT.\n",
      "\n",
      "Increase the number of iterations (max_iter) or scale the data as shown in:\n",
      "    https://scikit-learn.org/stable/modules/preprocessing.html\n",
      "Please also refer to the documentation for alternative solver options:\n",
      "    https://scikit-learn.org/stable/modules/linear_model.html#logistic-regression\n",
      "  n_iter_i = _check_optimize_result(\n"
     ]
    }
   ],
   "source": [
    "#Logistic regression model on word count\n",
    "c = CountVectorizer(stop_words = 'english')\n",
    "\n",
    "text_fit(X_u, y_u, c, LogisticRegression())"
   ]
  },
  {
   "cell_type": "code",
   "execution_count": 17,
   "metadata": {},
   "outputs": [
    {
     "name": "stdout",
     "output_type": "stream",
     "text": [
      "# features: 145785\n",
      "# train records: 4060\n",
      "# test records: 1354\n",
      "Model Accuracy: 0.7193500738552437\n",
      "\n",
      "-Top 20 positive-\n",
      "    Word  Coefficient\n",
      "    food     1.933226\n",
      "    make     1.722589\n",
      " perfect     1.464895\n",
      "  flavor     1.271477\n",
      "     tea     1.271025\n",
      "     bag     1.231195\n",
      "  gluten     1.222710\n",
      " minutes     1.179821\n",
      "   blend     1.170208\n",
      "     mix     1.165326\n",
      "   pasta     1.125796\n",
      "   tried     1.110078\n",
      "    year     1.105605\n",
      "   chips     1.091774\n",
      "    chai     1.084542\n",
      "     dog     1.056139\n",
      "   value     1.054453\n",
      "   fresh     1.048893\n",
      "      ve     1.031489\n",
      "   loves     1.027254\n",
      "\n",
      "-Top 20 negative-\n",
      "          Word  Coefficient\n",
      "       flavour    -0.828853\n",
      "          yoga    -0.834773\n",
      "      rockstar    -0.834980\n",
      "          soda    -0.861141\n",
      "    cappuccino    -0.908862\n",
      "         money    -0.912249\n",
      " product great    -0.912824\n",
      "         order    -0.931832\n",
      "          wife    -0.936801\n",
      "      received    -0.969719\n",
      "        lipton    -0.988468\n",
      "        marley    -1.083503\n",
      "          know    -1.085613\n",
      "      products    -1.133256\n",
      "        coffee    -1.241852\n",
      "          zico    -1.284412\n",
      "       product    -1.306041\n",
      "         drink    -1.307320\n",
      "            br    -1.512577\n",
      "         water    -2.121223\n"
     ]
    }
   ],
   "source": [
    "#Logistic regression model on TFIDF + ngram\n",
    "tfidf_n = TfidfVectorizer(ngram_range=(1,2),stop_words = 'english')\n",
    "\n",
    "text_fit(X_u, y_u, tfidf_n, LogisticRegression())"
   ]
  },
  {
   "cell_type": "code",
   "execution_count": 18,
   "metadata": {},
   "outputs": [
    {
     "name": "stdout",
     "output_type": "stream",
     "text": [
      "Downvote score 5 comments examples:\n",
      "207      Hard to find the wintergreen smalls [sugar fre...\n",
      "4511     Wonderful, smooth, satisfying decaf coffee wit...\n",
      "7787     My husband is a big coffee drinker, and with a...\n",
      "12072    We love French roast coffee and my husband mus...\n",
      "13671    THIS IS A LOVELY VERY HEALTHY TREE,ALONG WITH ...\n",
      "Name: Text, dtype: object\n",
      "Upvote score 5 comments examples\n",
      "456398    IF YOU OWN/BUY A KEURIG, IT IS A MUST-HAVE!  B...\n",
      "487899    Okay - I should probably qualify this by sayin...\n",
      "56688     I found these more than 10 years ago in a heal...\n",
      "422749    I have gotten these several times over the las...\n",
      "263915    I will never have a party without it, I made 1...\n",
      "Name: Text, dtype: object\n"
     ]
    }
   ],
   "source": [
    "#Study on non-context features\n",
    "#Let's look at some examples of upvote and downvote comments\n",
    "#pd.set_option('display.max_colwidth', -1)\n",
    "print('Downvote score 5 comments examples:')\n",
    "print(under_sample_data[under_sample_data['% Upvote']==0]['Text'].iloc[:100:20])\n",
    "print('Upvote score 5 comments examples')\n",
    "print(under_sample_data[under_sample_data['% Upvote']==1]['Text'].iloc[:100:20])"
   ]
  },
  {
   "cell_type": "code",
   "execution_count": 19,
   "metadata": {},
   "outputs": [
    {
     "name": "stdout",
     "output_type": "stream",
     "text": [
      "% Upvote                  0          1\n",
      "word_count        83.927226  89.557813\n",
      "capital_count     19.252678  14.220909\n",
      "question_mark      0.180273   0.083118\n",
      "exclamation_mark   0.906169   0.952346\n",
      "punctuation       22.482822  20.081640\n"
     ]
    }
   ],
   "source": [
    "#Time to extract some possible features:\n",
    "under_sample_data['word_count'] = under_sample_data['Text'].apply(lambda x: len(x.split()))\n",
    "under_sample_data['capital_count'] = under_sample_data['Text'].apply(lambda x: sum(1 for c in x if c.isupper()))\n",
    "under_sample_data['question_mark'] = under_sample_data['Text'].apply(lambda x: sum(1 for c in x if c == '?'))\n",
    "under_sample_data['exclamation_mark'] = under_sample_data['Text'].apply(lambda x: sum(1 for c in x if c == '!'))\n",
    "under_sample_data['punctuation'] = under_sample_data['Text'].apply(lambda x: sum(1 for c in x if c in punctuation))\n",
    "\n",
    "print(under_sample_data.groupby('% Upvote').agg({'word_count': 'mean', 'capital_count': 'mean', 'question_mark': 'mean', 'exclamation_mark': 'mean', 'punctuation': 'mean'}).T)\n",
    "\n",
    "X_num = under_sample_data[under_sample_data.columns.difference(['% Upvote', 'Text'])]\n",
    "y_num = under_sample_data['% Upvote']"
   ]
  },
  {
   "cell_type": "code",
   "execution_count": 20,
   "metadata": {},
   "outputs": [
    {
     "name": "stdout",
     "output_type": "stream",
     "text": [
      "Logistic Regression accuracy: 0.5753323485967504\n",
      "SVM accuracy: 0.5753323485967504\n"
     ]
    }
   ],
   "source": [
    "#Now we train the model to predict:\n",
    "X_train, X_test, y_train, y_test = train_test_split(X_num, y_num, random_state=0)\n",
    "\n",
    "clf_lr = LogisticRegression().fit(X_train, y_train)\n",
    "acc_lr = clf_lr.score(X_test, y_test)\n",
    "print('Logistic Regression accuracy: {}'.format(acc_lr))\n",
    "\n",
    "clf_svm = svm.SVC().fit(X_train, y_train)\n",
    "acc_svm = clf_svm.score(X_test, y_test)\n",
    "print('SVM accuracy: {}'.format(acc_svm))"
   ]
  },
  {
   "cell_type": "code",
   "execution_count": 21,
   "metadata": {},
   "outputs": [
    {
     "name": "stdout",
     "output_type": "stream",
     "text": [
      "                                                       Score count  Score mean\n",
      "UserId         ProfileName                                                    \n",
      "A3OXHLG6DIBRW8 C. F. Hill \"CFH\"                                448    4.535714\n",
      "A1YUL9PCJR3JTY O. Brown \"Ms. O. Khannah-Brown\"                 421    4.494062\n",
      "AY12DBB0U420B  Gary Peterson                                   389    4.647815\n",
      "A281NPSIMI1C2R Rebecca of Amazon \"The Rebecca Review\"          365    4.841096\n",
      "A1Z54EM24Y40LL c2                                              256    4.453125\n",
      "A1TMAVN4CEM8U8 Gunner                                          204    4.833333\n",
      "A2MUGFV2TDQ47K Lynrie \"Oh HELL no\"                             201    3.751244\n",
      "A3TVZM3ZIXG8YW christopher hayes                               199    1.000000\n",
      "A3PJZ8TU8FDQ1K Jared Castle                                    178    4.601124\n",
      "AQQLWCMRNDFGI  Steven A. Peterson                              176    3.954545\n"
     ]
    }
   ],
   "source": [
    "#Accuracy is lower than context features we tried above, meaning the feature is not good enough to predict our target.\n",
    "#In-depth study on user behaviour\n",
    "#This analysis will be carried out to focus on one specific user, on what he / she likes in terms of fine food, based on the reviews he / she had given in the past. This can be expanded to all users later on.\n",
    "\n",
    "#First let's look at how many reviews each user gave in the past:\n",
    "df_user = odf.groupby(['UserId', 'ProfileName']).agg({'Score':['count', 'mean']})\n",
    "df_user.columns = df_user.columns.get_level_values(1)\n",
    "df_user.columns = ['Score count', 'Score mean']\n",
    "df_user = df_user.sort_values(by = 'Score count', ascending = False)\n",
    "print(df_user.head(10))"
   ]
  },
  {
   "cell_type": "code",
   "execution_count": 22,
   "metadata": {},
   "outputs": [
    {
     "data": {
      "image/png": "[encoded data removed]",
      "text/plain": [
       "<Figure size 1080x720 with 1 Axes>"
      ]
     },
     "metadata": {
      "needs_background": "light"
     },
     "output_type": "display_data"
    }
   ],
   "source": [
    "#The user with most frequent reviews are \"CFH\" with 448 reviews and average score 4.54. Let's look at his review distribution:\n",
    "def plot_user(UserId):\n",
    "    df_1user = odf[odf['UserId'] == UserId]['Score']\n",
    "    df_1user_plot = df_1user.value_counts(sort=False)\n",
    "    ax = df_1user_plot.plot(kind = 'bar', figsize = (15,10), title = 'Score distribution of user {} review'.format(odf[odf['UserId'] == UserId]['ProfileName'].iloc[0]))\n",
    "\n",
    "plot_user('A3OXHLG6DIBRW8')"
   ]
  },
  {
   "cell_type": "code",
   "execution_count": 23,
   "metadata": {},
   "outputs": [
    {
     "name": "stdout",
     "output_type": "stream",
     "text": [
      "                                Score count  Score mean\n",
      "UserId         ProfileName                             \n",
      "A35R32TA60XD57 M. Torma                 141    3.460993\n",
      "A2M9D9BDHONV3Y A. Bennett               115    3.269565\n",
      "A2TN9C5E4A0I3F Jimmy                    110    2.727273\n",
      "A2XNJJ9TF70P4J Angie                     85    2.976471\n",
      "AJB5P7GVR0MT8  Harry the Horse           70    3.257143\n"
     ]
    }
   ],
   "source": [
    "#It looks user \"CFH\" prefer to give high score a lot. I would rather analyze a more neutral user, let's dig into that:\n",
    "print(df_user[(df_user['Score mean']<3.5) & (df_user['Score mean']>2.5)].head())"
   ]
  },
  {
   "cell_type": "code",
   "execution_count": 24,
   "metadata": {},
   "outputs": [
    {
     "data": {
      "image/png": "[encoded data removed]",
      "text/plain": [
       "<Figure size 1080x720 with 1 Axes>"
      ]
     },
     "metadata": {
      "needs_background": "light"
     },
     "output_type": "display_data"
    }
   ],
   "source": [
    "plot_user('A2M9D9BDHONV3Y')"
   ]
  },
  {
   "cell_type": "code",
   "execution_count": 25,
   "metadata": {},
   "outputs": [
    {
     "name": "stdout",
     "output_type": "stream",
     "text": [
      "score 1 reviews most popular 2-gram / 3-gram:\n",
      "   Count Occur %                   Phrase\n",
      "0   11.0  42.31%             (never, buy)\n",
      "1    9.0  34.62%           (buy, product)\n",
      "2    8.0  30.77%    (never, buy, product)\n",
      "3    8.0  30.77%  (monosodium, glutamate)\n",
      "4    7.0  26.92%         (dry, tasteless)\n",
      "5    7.0  26.92%          (picture, look)\n",
      "6    7.0  26.92%            (decide, try)\n",
      "score 2 reviews most popular 2-gram / 3-gram:\n",
      "    Count Occur %                Phrase\n",
      "0     8.0  47.06%         (sauce, ruin)\n",
      "1     8.0  47.06%  (sauce, ruin, whole)\n",
      "2     8.0  47.06%         (ruin, whole)\n",
      "3     7.0  41.18%           (give, try)\n",
      "4     6.0  35.29%            (n't, buy)\n",
      "5     6.0  35.29%       (product, ever)\n",
      "6     5.0  29.41%     (give, try, like)\n",
      "7     5.0  29.41%          (...., give)\n",
      "8     5.0  29.41%           (try, like)\n",
      "9     5.0  29.41%         (taste, like)\n",
      "10    5.0  29.41%     (n't, get, wrong)\n",
      "11    5.0  29.41%          (get, wrong)\n",
      "12    5.0  29.41%            (n't, get)\n",
      "13    5.0  29.41%     (...., give, try)\n",
      "14    5.0  29.41%     (buy, particular)\n",
      "score 3 reviews most popular 2-gram / 3-gram:\n",
      "   Count Occur %         Phrase\n",
      "0    4.0  28.57%  (taste, like)\n",
      "1    4.0  28.57%   (whole, lot)\n",
      "score 4 reviews most popular 2-gram / 3-gram:\n",
      "   Count Occur %               Phrase\n",
      "0    6.0   37.5%  (highly, recommend)\n",
      "1    5.0  31.25%         (side, dish)\n",
      "2    4.0   25.0%       (potato, chip)\n",
      "score 5 reviews most popular 2-gram / 3-gram:\n",
      "   Count Occur %               Phrase\n",
      "0   18.0  42.86%  (highly, recommend)\n"
     ]
    }
   ],
   "source": [
    "#He seems like a better analysis target! Now let's dig deep into his reviews\n",
    "def get_token_ngram(score, benchmark, userid='all'):\n",
    "\n",
    "    if userid != 'all':\n",
    "        df = odf[(odf['UserId'] == userid) & (odf['Score'] == score)]['Text']\n",
    "    else:\n",
    "        df = odf[odf['Score'] == score]['Text']\n",
    "        \n",
    "    count = len(df)\n",
    "    total_text = ' '.join(df)\n",
    "    total_text = total_text.lower()\n",
    "    stop = set(stopwords.words('english'))\n",
    "    total_text = nltk.word_tokenize(total_text)\n",
    "    total_text = [word for word in total_text if word not in stop and len(word) >= 3]\n",
    "    lemmatizer = WordNetLemmatizer()\n",
    "    total_text = [lemmatizer.lemmatize(w,'v') for w in total_text]\n",
    "    bigrams = ngrams(total_text,2)\n",
    "    trigrams = ngrams(total_text, 3)\n",
    "\n",
    "    # look at 2-gram and 3-gram together\n",
    "    combine = chain(bigrams, trigrams)\n",
    "    text = nltk.Text(combine)\n",
    "    fdist = nltk.FreqDist(text)\n",
    "    \n",
    "    # return only phrase occurs more than benchmark of his reviews\n",
    "    return sorted([(w,fdist[w],str(round(fdist[w]/count*100,2))+'%') for w in set(text) if fdist[w] >= count*benchmark], key=lambda x: -x[1])\n",
    "\n",
    "# score 1-5 reviews with this user\n",
    "index = ['Phrase', 'Count', 'Occur %']\n",
    "\n",
    "for j in range(1,6):\n",
    "    test = pd.DataFrame()\n",
    "    d = get_token_ngram(j, 0.25, 'A2M9D9BDHONV3Y')\n",
    "    print('score {} reviews most popular 2-gram / 3-gram:'.format(j))\n",
    "    for i in d:\n",
    "        test = test.append(pd.Series(i, index = index), ignore_index = True)\n",
    "    test = test.sort_values('Count', ascending=False)\n",
    "    print(test)"
   ]
  },
  {
   "cell_type": "code",
   "execution_count": 26,
   "metadata": {},
   "outputs": [
    {
     "name": "stdout",
     "output_type": "stream",
     "text": [
      "score 1 reviews most popular 2-gram / 3-gram:\n",
      "    Count Occur %          Phrase\n",
      "0  5547.0  10.61%   (taste, like)\n",
      "1  2330.0   4.46%  (waste, money)\n",
      "2  2175.0   4.16%    (could, n't)\n",
      "3  2111.0   4.04%     (n't, even)\n",
      "4  1809.0   3.46%     (n't, know)\n",
      "5  1794.0   3.43%    (would, n't)\n",
      "6  1645.0   3.15%      (n't, buy)\n",
      "score 2 reviews most popular 2-gram / 3-gram:\n",
      "    Count Occur %          Phrase\n",
      "0  3161.0  10.62%   (taste, like)\n",
      "1  1362.0   4.58%     (n't, like)\n",
      "2  1304.0   4.38%    (would, n't)\n",
      "3  1086.0   3.65%  (think, would)\n",
      "4  1064.0   3.57%      (n't, buy)\n",
      "5  1010.0   3.39%     (n't, know)\n",
      "6   996.0   3.35%    (n't, taste)\n",
      "7   945.0   3.17%    (could, n't)\n",
      "8   912.0   3.06%   (taste, good)\n",
      "score 3 reviews most popular 2-gram / 3-gram:\n",
      "    Count Occur %          Phrase\n",
      "0  3240.0    7.6%   (taste, like)\n",
      "1  1632.0   3.83%    (would, n't)\n",
      "2  1612.0   3.78%     (n't, like)\n",
      "3  1557.0   3.65%   (taste, good)\n",
      "4  1463.0   3.43%   (href=, http)\n",
      "5  1406.0    3.3%     (n't, know)\n",
      "6  1301.0   3.05%  (think, would)\n",
      "score 4 reviews most popular 2-gram / 3-gram:\n",
      "    Count Occur %          Phrase\n",
      "0  4358.0    5.4%   (taste, like)\n",
      "1  3207.0   3.98%   (taste, good)\n",
      "2  3011.0   3.73%   (href=, http)\n",
      "3  2821.0    3.5%  (pretty, good)\n",
      "4  2743.0    3.4%  (really, like)\n",
      "5  2428.0   3.01%     (n't, like)\n",
      "score 5 reviews most popular 2-gram / 3-gram:\n",
      "     Count Occur %               Phrase\n",
      "0  17542.0   4.83%  (highly, recommend)\n",
      "1  14458.0   3.98%        (taste, like)\n",
      "2  11772.0   3.24%     (grocery, store)\n",
      "3  11516.0   3.17%       (taste, great)\n"
     ]
    }
   ],
   "source": [
    "#Seems like A. Bennett likes to use something like \"give it a try\" for score 2 reviews and \"highly recommend\" for score 5 reviews (without other frequent phrases). He likes using the phrase \"...\" a lot as well. Sample size is very small though.\n",
    "\n",
    "#Let's look at full picture now instead of just one user:\n",
    "# score 1-5 reviews with all users\n",
    "index = ['Phrase', 'Count', 'Occur %']\n",
    "\n",
    "for j in range(1,6):\n",
    "    test = pd.DataFrame()\n",
    "    # easier benchmark since we have many different users here, thus different phrase\n",
    "    d = get_token_ngram(j, 0.03)\n",
    "    print('score {} reviews most popular 2-gram / 3-gram:'.format(j))\n",
    "    for i in d:\n",
    "        test = test.append(pd.Series(i, index = index), ignore_index = True)\n",
    "    test = test.sort_values('Count', ascending=False)\n",
    "    print(test)"
   ]
  },
  {
   "cell_type": "code",
   "execution_count": 27,
   "metadata": {},
   "outputs": [],
   "source": [
    "#Maybe we should focus on popular single adjective word people used for different score. First we modify the function a bit for easier implementation:\n",
    "def get_token_adj(score, benchmark, userid='all'):\n",
    "    \n",
    "    if userid != 'all':\n",
    "        df = odf[(odf['UserId'] == userid) & (odf['Score'] == score)]['Text']\n",
    "    else:\n",
    "        df = odf[odf['Score'] == score]['Text']\n",
    "        \n",
    "    count = len(df)\n",
    "    total_text = ' '.join(df)\n",
    "    total_text = total_text.lower()\n",
    "    stop = set(stopwords.words('english'))\n",
    "    total_text = nltk.word_tokenize(total_text)\n",
    "    total_text = [word for word in total_text if word not in stop and len(word) >= 3]\n",
    "    lemmatizer = WordNetLemmatizer()\n",
    "    total_text = [lemmatizer.lemmatize(w,'a') for w in total_text]\n",
    "    # get adjective only\n",
    "    total_text = [word for word, form in nltk.pos_tag(total_text) if form == 'JJ']\n",
    "    \n",
    "    text = nltk.Text(total_text)\n",
    "    fdist = nltk.FreqDist(text)\n",
    "    \n",
    "    # return only phrase occurs more than benchmark of his reviews\n",
    "    return sorted([(w,fdist[w],str(round(fdist[w]/count*100,2))+'%') for w in set(text) if fdist[w] >= count*benchmark], key=lambda x: -x[1])"
   ]
  },
  {
   "cell_type": "code",
   "execution_count": 28,
   "metadata": {},
   "outputs": [
    {
     "name": "stdout",
     "output_type": "stream",
     "text": [
      "score 1 reviews most popular adjectives word:\n",
      "   Count Occur %     Phrase\n",
      "0   13.0   50.0%        dry\n",
      "1   12.0  46.15%     cheese\n",
      "2   10.0  38.46%     little\n",
      "3   10.0  38.46%        bad\n",
      "4    8.0  30.77%       hard\n",
      "5    8.0  30.77%  expensive\n",
      "6    8.0  30.77%  delicious\n",
      "7    8.0  30.77%      tasty\n",
      "8    7.0  26.92%      bread\n",
      "9    7.0  26.92%       poor\n",
      "score 2 reviews most popular adjectives word:\n",
      "   Count Occur %      Phrase\n",
      "0   10.0  58.82%       whole\n",
      "1    8.0  47.06%      cheese\n",
      "2    6.0  35.29%       awful\n",
      "3    6.0  35.29%       wrong\n",
      "4    6.0  35.29%   delicious\n",
      "5    5.0  29.41%  particular\n",
      "6    5.0  29.41%        good\n",
      "score 3 reviews most popular adjectives word:\n",
      "   Count Occur %        Phrase\n",
      "0    9.0  64.29%         whole\n",
      "1    5.0  35.71%          high\n",
      "2    4.0  28.57%         first\n",
      "3    4.0  28.57%         great\n",
      "4    4.0  28.57%          good\n",
      "5    4.0  28.57%  disappointed\n",
      "score 4 reviews most popular adjectives word:\n",
      "   Count Occur %     Phrase\n",
      "0    9.0  56.25%      great\n",
      "1    8.0   50.0%  delicious\n",
      "2    5.0  31.25%     little\n",
      "3    5.0  31.25%  recommend\n",
      "4    4.0   25.0%    regular\n",
      "5    4.0   25.0%       good\n",
      "6    4.0   25.0%       high\n",
      "7    4.0   25.0%       much\n",
      "8    4.0   25.0%   multiple\n",
      "score 5 reviews most popular adjectives word:\n",
      "   Count Occur %     Phrase\n",
      "0   31.0  73.81%  delicious\n",
      "1   18.0  42.86%      great\n",
      "2   14.0  33.33%       high\n",
      "3   13.0  30.95%      first\n",
      "4   12.0  28.57%      fresh\n"
     ]
    }
   ],
   "source": [
    "#Let's look at user A. Bennett again:\n",
    "# score 1-5 reviews with this user\n",
    "index = ['Phrase', 'Count', 'Occur %']\n",
    "\n",
    "for j in range(1,6):\n",
    "    test = pd.DataFrame()\n",
    "    d = get_token_adj(j, 0.25, 'A2M9D9BDHONV3Y')\n",
    "    print('score {} reviews most popular adjectives word:'.format(j))\n",
    "    for i in d:\n",
    "        test = test.append(pd.Series(i, index = index), ignore_index = True)\n",
    "    test = test.sort_values('Count', ascending=False)\n",
    "    print(test)"
   ]
  },
  {
   "cell_type": "code",
   "execution_count": 29,
   "metadata": {},
   "outputs": [
    {
     "name": "stdout",
     "output_type": "stream",
     "text": [
      "score 1 reviews most popular adjectives word:\n",
      "      Count Occur %        Phrase\n",
      "0   16224.0  31.04%          good\n",
      "1   10804.0  20.67%           bad\n",
      "2    4984.0   9.54%         great\n",
      "3    4840.0   9.26%          much\n",
      "4    4787.0   9.16%        little\n",
      "5    4781.0   9.15%           old\n",
      "6    4201.0   8.04%         first\n",
      "7    3963.0   7.58%           new\n",
      "8    3789.0   7.25%     different\n",
      "9    3717.0   7.11%          many\n",
      "10   3540.0   6.77%         small\n",
      "11   3297.0   6.31%          real\n",
      "12   2999.0   5.74%  disappointed\n",
      "13   2889.0   5.53%          sure\n",
      "14   2835.0   5.42%          free\n",
      "15   2832.0   5.42%          diet\n",
      "16   2769.0    5.3%          high\n",
      "17   2659.0   5.09%          last\n",
      "score 2 reviews most popular adjectives word:\n",
      "      Count Occur %        Phrase\n",
      "0   13548.0  45.51%          good\n",
      "1    4252.0  14.28%          much\n",
      "2    4198.0   14.1%           bad\n",
      "3    3918.0  13.16%         great\n",
      "4    3691.0   12.4%        little\n",
      "5    2848.0   9.57%         small\n",
      "6    2318.0   7.79%         first\n",
      "7    2293.0    7.7%        strong\n",
      "8    2242.0   7.53%     different\n",
      "9    2165.0   7.27%         sweet\n",
      "10   2068.0   6.95%          many\n",
      "11   2056.0   6.91%           old\n",
      "12   2010.0   6.75%           big\n",
      "13   1952.0   6.56%          hard\n",
      "14   1925.0   6.47%           hot\n",
      "15   1908.0   6.41%  disappointed\n",
      "16   1900.0   6.38%          sure\n",
      "17   1893.0   6.36%          high\n",
      "18   1767.0   5.94%         green\n",
      "19   1704.0   5.72%         whole\n",
      "20   1644.0   5.52%       healthy\n",
      "21   1608.0    5.4%           new\n",
      "22   1595.0   5.36%          weak\n",
      "23   1576.0   5.29%       organic\n",
      "24   1527.0   5.13%          real\n",
      "25   1495.0   5.02%       regular\n",
      "score 3 reviews most popular adjectives word:\n",
      "      Count Occur %     Phrase\n",
      "0   25121.0  58.91%       good\n",
      "1    7654.0  17.95%      great\n",
      "2    7374.0  17.29%     little\n",
      "3    6926.0  16.24%       much\n",
      "4    5497.0  12.89%        bad\n",
      "5    4744.0  11.13%     strong\n",
      "6    4683.0  10.98%      small\n",
      "7    4015.0   9.42%      sweet\n",
      "8    3468.0   8.13%      first\n",
      "9    3434.0   8.05%  different\n",
      "10   3289.0   7.71%       high\n",
      "11   3108.0   7.29%       nice\n",
      "12   3103.0   7.28%       sure\n",
      "13   3041.0   7.13%        big\n",
      "14   2918.0   6.84%        hot\n",
      "15   2904.0   6.81%       many\n",
      "16   2762.0   6.48%      green\n",
      "17   2672.0   6.27%    healthy\n",
      "18   2608.0   6.12%    organic\n",
      "19   2601.0    6.1%       hard\n",
      "20   2568.0   6.02%    regular\n",
      "21   2520.0   5.91%        old\n",
      "22   2516.0    5.9%      large\n",
      "23   2247.0   5.27%      whole\n",
      "24   2237.0   5.25%    natural\n",
      "25   2164.0   5.08%        dry\n",
      "score 4 reviews most popular adjectives word:\n",
      "      Count Occur %     Phrase\n",
      "0   52578.0  65.19%       good\n",
      "1   22480.0  27.87%      great\n",
      "2   16209.0   20.1%     little\n",
      "3   10530.0  13.06%       much\n",
      "4    9281.0  11.51%       nice\n",
      "5    8536.0  10.58%     strong\n",
      "6    8375.0  10.38%      small\n",
      "7    8161.0  10.12%      sweet\n",
      "8    6495.0   8.05%    healthy\n",
      "9    6152.0   7.63%       easy\n",
      "10   5981.0   7.42%        hot\n",
      "11   5962.0   7.39%       high\n",
      "12   5734.0   7.11%       many\n",
      "13   5683.0   7.05%        bad\n",
      "14   5682.0   7.04%        big\n",
      "15   5480.0   6.79%  different\n",
      "16   5426.0   6.73%      first\n",
      "17   5309.0   6.58%    organic\n",
      "18   5047.0   6.26%       sure\n",
      "19   5033.0   6.24%       free\n",
      "20   4839.0    6.0%      green\n",
      "21   4764.0   5.91%    regular\n",
      "22   4654.0   5.77%      large\n",
      "23   4573.0   5.67%       hard\n",
      "24   4499.0   5.58%        old\n",
      "25   4474.0   5.55%      tasty\n",
      "26   4464.0   5.53%      fresh\n",
      "27   4406.0   5.46%        low\n",
      "28   4326.0   5.36%  delicious\n",
      "29   4326.0   5.36%      whole\n",
      "30   4268.0   5.29%    natural\n",
      "score 5 reviews most popular adjectives word:\n",
      "       Count Occur %     Phrase\n",
      "0   151300.0  41.67%       good\n",
      "1   127849.0  35.21%      great\n",
      "2    45683.0  12.58%     little\n",
      "3    32776.0   9.03%       much\n",
      "4    32744.0   9.02%  delicious\n",
      "5    30182.0   8.31%    healthy\n",
      "6    27711.0   7.63%       many\n",
      "7    26172.0   7.21%       free\n",
      "8    25850.0   7.12%       easy\n",
      "9    25257.0   6.96%   favorite\n",
      "10   24898.0   6.86%      small\n",
      "11   24762.0   6.82%        hot\n",
      "12   23781.0   6.55%      sweet\n",
      "13   23228.0    6.4%       nice\n",
      "14   21403.0   5.89%        old\n",
      "15   21162.0   5.83%      happy\n",
      "16   20427.0   5.63%      fresh\n",
      "17   20269.0   5.58%     strong\n",
      "18   19768.0   5.44%    organic\n",
      "19   19727.0   5.43%       high\n",
      "20   19348.0   5.33%  different\n",
      "21   18844.0   5.19%      first\n",
      "22   18735.0   5.16%      local\n",
      "23   18649.0   5.14%    perfect\n",
      "24   18319.0   5.04%        big\n"
     ]
    }
   ],
   "source": [
    "#Obviously much more useful information here, e.g. A. Bennett hates food that are too dry and expensive\n",
    "#Let's also look at big picture:\n",
    "# score 1-5 reviews with all users\n",
    "index = ['Phrase', 'Count', 'Occur %']\n",
    "\n",
    "for j in range(1,6):\n",
    "    test = pd.DataFrame()\n",
    "    d = get_token_adj(j, 0.05)\n",
    "    print('score {} reviews most popular adjectives word:'.format(j))\n",
    "    for i in d:\n",
    "        test = test.append(pd.Series(i, index = index), ignore_index = True)\n",
    "    test = test.sort_values('Count', ascending=False)\n",
    "    print(test)"
   ]
  },
  {
   "cell_type": "code",
   "execution_count": null,
   "metadata": {},
   "outputs": [],
   "source": []
  }
 ],
 "metadata": {
  "kernelspec": {
   "display_name": "Python 3",
   "language": "python",
   "name": "python3"
  },
  "language_info": {
   "codemirror_mode": {
    "name": "ipython",
    "version": 3
   },
   "file_extension": ".py",
   "mimetype": "text/x-python",
   "name": "python",
   "nbconvert_exporter": "python",
   "pygments_lexer": "ipython3",
   "version": "3.8.5"
  }
 },
 "nbformat": 4,
 "nbformat_minor": 4
}
